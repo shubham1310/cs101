{
 "cells": [
  {
   "cell_type": "code",
   "execution_count": 1,
   "metadata": {},
   "outputs": [],
   "source": [
    "import sympy"
   ]
  },
  {
   "cell_type": "code",
   "execution_count": 2,
   "metadata": {},
   "outputs": [],
   "source": [
    "x = sympy.S( 'x' )"
   ]
  },
  {
   "cell_type": "code",
   "execution_count": 3,
   "metadata": {},
   "outputs": [
    {
     "data": {
      "text/plain": [
       "exp(-x**2)"
      ]
     },
     "execution_count": 3,
     "metadata": {},
     "output_type": "execute_result"
    }
   ],
   "source": [
    "sympy.exp(-x**2)"
   ]
  },
  {
   "cell_type": "code",
   "execution_count": 4,
   "metadata": {},
   "outputs": [],
   "source": [
    "a = sympy.S( 'a' )\n",
    "b = sympy.S( 'b' )\n",
    "c = sympy.S( 'c' )\n",
    "x = sympy.S( 'x' )"
   ]
  },
  {
   "cell_type": "code",
   "execution_count": 8,
   "metadata": {},
   "outputs": [
    {
     "data": {
      "text/plain": [
       "[-(-1/2 - sqrt(3)*I/2)*(sqrt(729*c**2/a**2 + 108*b**3/a**3)/2 + 27*c/(2*a))**(1/3)/3 + b/(a*(-1/2 - sqrt(3)*I/2)*(sqrt(729*c**2/a**2 + 108*b**3/a**3)/2 + 27*c/(2*a))**(1/3)),\n",
       " -(-1/2 + sqrt(3)*I/2)*(sqrt(729*c**2/a**2 + 108*b**3/a**3)/2 + 27*c/(2*a))**(1/3)/3 + b/(a*(-1/2 + sqrt(3)*I/2)*(sqrt(729*c**2/a**2 + 108*b**3/a**3)/2 + 27*c/(2*a))**(1/3)),\n",
       " -(sqrt(729*c**2/a**2 + 108*b**3/a**3)/2 + 27*c/(2*a))**(1/3)/3 + b/(a*(sqrt(729*c**2/a**2 + 108*b**3/a**3)/2 + 27*c/(2*a))**(1/3))]"
      ]
     },
     "execution_count": 8,
     "metadata": {},
     "output_type": "execute_result"
    }
   ],
   "source": [
    "sympy.solve( a*x**3+b*x+c,x )"
   ]
  },
  {
   "cell_type": "markdown",
   "metadata": {},
   "source": [
    "![integral](integral.png)"
   ]
  },
  {
   "cell_type": "code",
   "execution_count": 10,
   "metadata": {},
   "outputs": [
    {
     "data": {
      "text/plain": [
       "1"
      ]
     },
     "execution_count": 10,
     "metadata": {},
     "output_type": "execute_result"
    }
   ],
   "source": [
    "sympy.integrate( sympy.cos( x ),( x,0,sympy.pi/2 ) )"
   ]
  },
  {
   "cell_type": "code",
   "execution_count": 6,
   "metadata": {},
   "outputs": [],
   "source": [
    "eq = a*x**2+b*x+c"
   ]
  },
  {
   "cell_type": "code",
   "execution_count": 7,
   "metadata": {},
   "outputs": [
    {
     "data": {
      "text/plain": [
       "b*x + c + 10*x**2"
      ]
     },
     "execution_count": 7,
     "metadata": {},
     "output_type": "execute_result"
    }
   ],
   "source": [
    "eq.subs(a,10)"
   ]
  },
  {
   "cell_type": "code",
   "execution_count": null,
   "metadata": {},
   "outputs": [],
   "source": []
  }
 ],
 "metadata": {
  "kernelspec": {
   "display_name": "Python 3",
   "language": "python",
   "name": "python3"
  },
  "language_info": {
   "codemirror_mode": {
    "name": "ipython",
    "version": 3
   },
   "file_extension": ".py",
   "mimetype": "text/x-python",
   "name": "python",
   "nbconvert_exporter": "python",
   "pygments_lexer": "ipython3",
   "version": "3.7.2"
  }
 },
 "nbformat": 4,
 "nbformat_minor": 2
}
