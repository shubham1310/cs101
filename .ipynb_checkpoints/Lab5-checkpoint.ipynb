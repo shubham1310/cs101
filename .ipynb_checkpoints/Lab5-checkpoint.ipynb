{
 "cells": [
  {
   "cell_type": "code",
   "execution_count": 4,
   "metadata": {},
   "outputs": [
    {
     "name": "stdout",
     "output_type": "stream",
     "text": [
      "AcSK\n",
      "ACSK\n"
     ]
    }
   ],
   "source": [
    "a='AcSK'\n",
    "a.upper()\n",
    "print(a)\n",
    "a = a.upper()\n",
    "print(a)"
   ]
  },
  {
   "cell_type": "code",
   "execution_count": 5,
   "metadata": {},
   "outputs": [
    {
     "name": "stdout",
     "output_type": "stream",
     "text": [
      "ACdK\n"
     ]
    }
   ],
   "source": [
    "a=a.replace('S','d')\n",
    "print(a)"
   ]
  },
  {
   "cell_type": "code",
   "execution_count": 6,
   "metadata": {},
   "outputs": [],
   "source": [
    "dict={}\n",
    "dict['asayidga']='b'"
   ]
  },
  {
   "cell_type": "code",
   "execution_count": 7,
   "metadata": {},
   "outputs": [
    {
     "name": "stdout",
     "output_type": "stream",
     "text": [
      "b\n"
     ]
    }
   ],
   "source": [
    "print(dict['asayidga'])\n",
    "def f(x):\n",
    "    '''\n",
    "    Calculates a probablitiy \n",
    "    args:\n",
    "        the value for the probablity\n",
    "    returns:\n",
    "        the probability\n",
    "    '''\n",
    "    \n",
    "    \n",
    "    return x**3+x**(1/2)"
   ]
  },
  {
   "cell_type": "code",
   "execution_count": 8,
   "metadata": {},
   "outputs": [
    {
     "name": "stdout",
     "output_type": "stream",
     "text": [
      "{'asayidga': 'b', 0: 0.0, 1: 2.0, 2: 9.414213562373096, 3: 28.73205080756888, 4: 66.0, 5: 127.23606797749979, 6: 218.4494897427832, 7: 345.6457513110646, 8: 514.8284271247462, 9: 732.0}\n"
     ]
    }
   ],
   "source": [
    "for i in range(10):\n",
    "    dict[i] = f(i)\n",
    "print(dict)"
   ]
  },
  {
   "cell_type": "code",
   "execution_count": 9,
   "metadata": {},
   "outputs": [
    {
     "name": "stdout",
     "output_type": "stream",
     "text": [
      "asayidga b\n",
      "0 0.0\n",
      "1 2.0\n",
      "2 9.414213562373096\n",
      "3 28.73205080756888\n",
      "4 66.0\n",
      "5 127.23606797749979\n",
      "6 218.4494897427832\n",
      "7 345.6457513110646\n",
      "8 514.8284271247462\n",
      "9 732.0\n"
     ]
    }
   ],
   "source": [
    "for key,value in dict.items():\n",
    "    print(key,value)"
   ]
  },
  {
   "cell_type": "code",
   "execution_count": 10,
   "metadata": {},
   "outputs": [
    {
     "name": "stdout",
     "output_type": "stream",
     "text": [
      "asayidga\n",
      "0\n",
      "1\n",
      "2\n",
      "3\n",
      "4\n",
      "5\n",
      "6\n",
      "7\n",
      "8\n",
      "9\n"
     ]
    }
   ],
   "source": [
    "for key in dict.keys():\n",
    "    print(key)"
   ]
  },
  {
   "cell_type": "code",
   "execution_count": 15,
   "metadata": {},
   "outputs": [
    {
     "name": "stdout",
     "output_type": "stream",
     "text": [
      "['My n', 'me is Donnie D', 'rko']\n",
      "v   ada\n"
     ]
    }
   ],
   "source": [
    "a=\"My name is Donnie Darko\"\n",
    "print(a.split('a'))\n",
    "a='v   adad'\n",
    "print(a.strip('d'))"
   ]
  },
  {
   "cell_type": "code",
   "execution_count": 16,
   "metadata": {},
   "outputs": [
    {
     "name": "stdout",
     "output_type": "stream",
     "text": [
      "v   adad aka DD\n"
     ]
    }
   ],
   "source": [
    "print(a + ' aka DD')"
   ]
  },
  {
   "cell_type": "code",
   "execution_count": 17,
   "metadata": {},
   "outputs": [
    {
     "name": "stdout",
     "output_type": "stream",
     "text": [
      "v   adad 10\n"
     ]
    }
   ],
   "source": [
    "print('{0} {1}'.format(a,10))"
   ]
  },
  {
   "cell_type": "code",
   "execution_count": 18,
   "metadata": {},
   "outputs": [
    {
     "name": "stdout",
     "output_type": "stream",
     "text": [
      "[1, 2, 3000, 4]\n"
     ]
    }
   ],
   "source": [
    "a=[1,2,3,4]\n",
    "a[2]=3000\n",
    "print(a)"
   ]
  },
  {
   "cell_type": "code",
   "execution_count": 19,
   "metadata": {},
   "outputs": [
    {
     "data": {
      "text/plain": [
       "2"
      ]
     },
     "execution_count": 19,
     "metadata": {},
     "output_type": "execute_result"
    }
   ],
   "source": [
    "a = [ [1,2,3], [4,5,6], [7,8,9] ]\n",
    "a[0][1]"
   ]
  },
  {
   "cell_type": "code",
   "execution_count": 20,
   "metadata": {},
   "outputs": [
    {
     "name": "stdout",
     "output_type": "stream",
     "text": [
      "d 5\n",
      "k 2\n",
      "p 1\n",
      "l 3\n"
     ]
    }
   ],
   "source": [
    "let = 'dkpl'\n",
    "text = 'In Xanadu did Kubla Khan/A stately pleasure-dome decree'\n",
    "\n",
    "text = text.lower()\n",
    "d = { 'd':0,'k':0,'p':0,'l':0}\n",
    "for c in text:\n",
    "    if c in let:\n",
    "        d[ c ] += 1\n",
    "\n",
    "for i in let:\n",
    "    print(i,text.count(i))"
   ]
  },
  {
   "cell_type": "code",
   "execution_count": 21,
   "metadata": {},
   "outputs": [
    {
     "name": "stdout",
     "output_type": "stream",
     "text": [
      "{'d': 5, 'k': 2, 'p': 1, 'l': 3}\n"
     ]
    }
   ],
   "source": [
    "print(d)"
   ]
  },
  {
   "cell_type": "code",
   "execution_count": 22,
   "metadata": {},
   "outputs": [],
   "source": [
    "# ![lab1](lab1.png)"
   ]
  },
  {
   "cell_type": "code",
   "execution_count": 23,
   "metadata": {},
   "outputs": [],
   "source": [
    "# ![lab1](lab2_1.png)"
   ]
  },
  {
   "cell_type": "code",
   "execution_count": 24,
   "metadata": {},
   "outputs": [],
   "source": [
    "# ![lab1](lab2_2.png)"
   ]
  },
  {
   "cell_type": "code",
   "execution_count": 25,
   "metadata": {},
   "outputs": [],
   "source": [
    "# ![lab1](lab2_3.png)"
   ]
  },
  {
   "cell_type": "code",
   "execution_count": null,
   "metadata": {},
   "outputs": [],
   "source": []
  }
 ],
 "metadata": {
  "kernelspec": {
   "display_name": "Python 3",
   "language": "python",
   "name": "python3"
  },
  "language_info": {
   "codemirror_mode": {
    "name": "ipython",
    "version": 3
   },
   "file_extension": ".py",
   "mimetype": "text/x-python",
   "name": "python",
   "nbconvert_exporter": "python",
   "pygments_lexer": "ipython3",
   "version": "3.7.1"
  }
 },
 "nbformat": 4,
 "nbformat_minor": 2
}
