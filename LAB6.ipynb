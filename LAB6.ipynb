{
 "cells": [
  {
   "cell_type": "code",
   "execution_count": 3,
   "metadata": {},
   "outputs": [
    {
     "data": {
      "text/plain": [
       "'01001001 00100000 01001000 01001111 01001100 01000100 00100000 01010111 01001001 01010100 01001000 00100000 01010100 01001000 01001111 01010011 01000101 00100000 01010111 01001000 01001111 00100000 01000110 01000001 01010110 01001111 01010010 00100000 01000110 01001001 01010010 01000101 00101110 '"
      ]
     },
     "execution_count": 3,
     "metadata": {},
     "output_type": "execute_result"
    }
   ],
   "source": [
    "\"01001001 00100000 01001000 01001111 01001100 01000100 00100000 01010111 01001001 01010100 01001000 00100000 01010100 01001000 01001111 01010011 01000101 00100000 01010111 01001000 01001111 00100000 01000110 01000001 01010110 01001111 01010010 00100000 01000110 01001001 01010010 01000101 00101110 \""
   ]
  },
  {
   "cell_type": "code",
   "execution_count": null,
   "metadata": {},
   "outputs": [],
   "source": [
    "I HOLD WITH THOSE WHO FAVOR FIRE."
   ]
  },
  {
   "cell_type": "code",
   "execution_count": 5,
   "metadata": {},
   "outputs": [
    {
     "name": "stdout",
     "output_type": "stream",
     "text": [
      "1 20\n",
      "2 21\n",
      "3 22\n",
      "4 23\n",
      "0 10\n",
      "1 11\n",
      "2 12\n",
      "3 13\n",
      "4 14\n"
     ]
    }
   ],
   "source": [
    "for i,j in zip(range(1,5),range(20,24)):\n",
    "    print(i,j)\n",
    "    \n",
    "for i,val in enumerate(range(10,15)):\n",
    "    print(i,val)"
   ]
  },
  {
   "cell_type": "code",
   "execution_count": 6,
   "metadata": {},
   "outputs": [],
   "source": [
    "a='abcdefghijkl'"
   ]
  },
  {
   "cell_type": "code",
   "execution_count": 7,
   "metadata": {},
   "outputs": [
    {
     "name": "stdout",
     "output_type": "stream",
     "text": [
      "7\n"
     ]
    }
   ],
   "source": [
    "print(a.index('h'))"
   ]
  },
  {
   "cell_type": "code",
   "execution_count": 4,
   "metadata": {},
   "outputs": [
    {
     "name": "stdout",
     "output_type": "stream",
     "text": [
      "j\n"
     ]
    }
   ],
   "source": [
    "print(a[2 + a.index('h')])"
   ]
  },
  {
   "cell_type": "code",
   "execution_count": 8,
   "metadata": {},
   "outputs": [
    {
     "name": "stdout",
     "output_type": "stream",
     "text": [
      "3\n",
      "1\n"
     ]
    }
   ],
   "source": [
    "print(10%7)\n",
    "print(1000000%7)"
   ]
  },
  {
   "cell_type": "code",
   "execution_count": 1,
   "metadata": {},
   "outputs": [
    {
     "name": "stdout",
     "output_type": "stream",
     "text": [
      "4\n",
      "14\n"
     ]
    }
   ],
   "source": [
    "def add(x,y=10):\n",
    "    return x+y\n",
    "print(add(1,3))\n",
    "print(add(4))"
   ]
  },
  {
   "cell_type": "markdown",
   "metadata": {},
   "source": [
    "### Talk about Encyrption and it's importance\n"
   ]
  }
 ],
 "metadata": {
  "kernelspec": {
   "display_name": "Python 3",
   "language": "python",
   "name": "python3"
  },
  "language_info": {
   "codemirror_mode": {
    "name": "ipython",
    "version": 3
   },
   "file_extension": ".py",
   "mimetype": "text/x-python",
   "name": "python",
   "nbconvert_exporter": "python",
   "pygments_lexer": "ipython3",
   "version": "3.7.1"
  }
 },
 "nbformat": 4,
 "nbformat_minor": 2
}
